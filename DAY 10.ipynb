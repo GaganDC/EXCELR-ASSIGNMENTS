{
 "cells": [
  {
   "cell_type": "code",
   "execution_count": 1,
   "id": "968e89cd",
   "metadata": {},
   "outputs": [
    {
     "name": "stdout",
     "output_type": "stream",
     "text": [
      "Enter a text: hi what are you doing\n",
      "hi: 1\n",
      "what: 1\n",
      "are: 1\n",
      "you: 1\n",
      "doing: 1\n",
      "Extracted emails: []\n"
     ]
    }
   ],
   "source": [
    "import re\n",
    "from collections import Counter\n",
    "\n",
    "def word_frequency(text):\n",
    "    # Convert text to lowercase and split into words\n",
    "    words = text.lower().split()\n",
    "    \n",
    "    # Count frequency of each word\n",
    "    word_counts = Counter(words)\n",
    "    \n",
    "    # Print words and their frequencies\n",
    "    for word, count in word_counts.items():\n",
    "        print(f\"{word}: {count}\")\n",
    "\n",
    "def extract_emails(text):\n",
    "    # Regular expression pattern for email addresses\n",
    "    email_pattern = r'\\b[A-Za-z0-9._%+-]+@[A-Za-z0-9.-]+\\.[A-Z|a-z]{2,}\\b'\n",
    "    return re.findall(email_pattern, text)\n",
    "\n",
    "# Example usage\n",
    "if __name__ == \"__main__\":\n",
    "    text = input(\"Enter a text: \")\n",
    "    word_frequency(text)\n",
    "    emails = extract_emails(text)\n",
    "    print(\"Extracted emails:\", emails)"
   ]
  },
  {
   "cell_type": "code",
   "execution_count": null,
   "id": "3a696e1a",
   "metadata": {},
   "outputs": [],
   "source": []
  }
 ],
 "metadata": {
  "kernelspec": {
   "display_name": "Python 3 (ipykernel)",
   "language": "python",
   "name": "python3"
  },
  "language_info": {
   "codemirror_mode": {
    "name": "ipython",
    "version": 3
   },
   "file_extension": ".py",
   "mimetype": "text/x-python",
   "name": "python",
   "nbconvert_exporter": "python",
   "pygments_lexer": "ipython3",
   "version": "3.10.9"
  }
 },
 "nbformat": 4,
 "nbformat_minor": 5
}
