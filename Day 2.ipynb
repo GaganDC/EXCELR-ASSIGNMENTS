{
 "cells": [
  {
   "cell_type": "code",
   "execution_count": 1,
   "id": "cb52ccc1",
   "metadata": {},
   "outputs": [
    {
     "name": "stdout",
     "output_type": "stream",
     "text": [
      "Accessing List Elements:\n",
      "First Element: 10\n",
      "Third Element: 30\n",
      "Last Element: 50\n",
      "\n",
      "Accessing Tuple Elements:\n",
      "Second Element: banana\n",
      "Fourth Element: date\n",
      "\n",
      "Accessing Dictionary Elements:\n",
      "Value of Key 'a': 1\n",
      "Value of Key 'c': 3\n",
      "Value of Key 'e': 5\n",
      "\n",
      "Slicing List and Tuple:\n",
      "Slice of List (index 1 to 3): [20, 30, 40]\n",
      "Slice of Tuple (index 0 to 2): ('apple', 'banana', 'cherry')\n"
     ]
    }
   ],
   "source": [
    "my_list = [10, 20, 30, 40, 50]\n",
    "my_tuple = (\"apple\", \"banana\", \"cherry\", \"date\", \"elderberry\")\n",
    "my_dict = {\"a\": 1, \"b\": 2, \"c\": 3, \"d\": 4, \"e\": 5}\n",
    "\n",
    "print(\"Accessing List Elements:\")\n",
    "print(f\"First Element: {my_list[0]}\")\n",
    "print(f\"Third Element: {my_list[2]}\")\n",
    "print(f\"Last Element: {my_list[-1]}\\n\")\n",
    "\n",
    "print(\"Accessing Tuple Elements:\")\n",
    "print(f\"Second Element: {my_tuple[1]}\")\n",
    "print(f\"Fourth Element: {my_tuple[3]}\\n\")\n",
    "\n",
    "\n",
    "print(\"Accessing Dictionary Elements:\")\n",
    "print(f\"Value of Key 'a': {my_dict['a']}\")\n",
    "print(f\"Value of Key 'c': {my_dict['c']}\")\n",
    "print(f\"Value of Key 'e': {my_dict['e']}\\n\")\n",
    "\n",
    "\n",
    "print(\"Slicing List and Tuple:\")\n",
    "print(f\"Slice of List (index 1 to 3): {my_list[1:4]}\")\n",
    "print(f\"Slice of Tuple (index 0 to 2): {my_tuple[0:3]}\")"
   ]
  },
  {
   "cell_type": "code",
   "execution_count": null,
   "id": "aef476ef",
   "metadata": {},
   "outputs": [],
   "source": []
  }
 ],
 "metadata": {
  "kernelspec": {
   "display_name": "Python 3 (ipykernel)",
   "language": "python",
   "name": "python3"
  },
  "language_info": {
   "codemirror_mode": {
    "name": "ipython",
    "version": 3
   },
   "file_extension": ".py",
   "mimetype": "text/x-python",
   "name": "python",
   "nbconvert_exporter": "python",
   "pygments_lexer": "ipython3",
   "version": "3.10.9"
  }
 },
 "nbformat": 4,
 "nbformat_minor": 5
}
