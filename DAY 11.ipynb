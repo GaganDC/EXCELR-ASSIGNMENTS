{
 "cells": [
  {
   "cell_type": "markdown",
   "id": "1d34dc95",
   "metadata": {},
   "source": [
    "## Day 11"
   ]
  },
  {
   "cell_type": "code",
   "execution_count": 1,
   "id": "45b14ba4",
   "metadata": {},
   "outputs": [
    {
     "name": "stderr",
     "output_type": "stream",
     "text": [
      "[nltk_data] Downloading package punkt to\n",
      "[nltk_data]     C:\\Users\\Annie\\AppData\\Roaming\\nltk_data...\n",
      "[nltk_data]   Package punkt is already up-to-date!\n"
     ]
    },
    {
     "name": "stdout",
     "output_type": "stream",
     "text": [
      "Enter a text: hello did you eat\n",
      "hello: 1\n",
      "did: 1\n",
      "you: 1\n",
      "eat: 1\n",
      "Extracted emails: []\n",
      "Tokenized words: ['hello', 'did', 'you', 'eat']\n",
      "Tokenized sentences: ['hello did you eat']\n",
      "Webpage title: Example Domain\n"
     ]
    }
   ],
   "source": [
    "import re\n",
    "import requests\n",
    "from bs4 import BeautifulSoup\n",
    "from collections import Counter\n",
    "import nltk\n",
    "from nltk.tokenize import word_tokenize, sent_tokenize\n",
    "\n",
    "# Ensure necessary NLTK resources are available\n",
    "nltk.download('punkt')\n",
    "\n",
    "def word_frequency(text):\n",
    "    # Convert text to lowercase and split into words\n",
    "    words = text.lower().split()\n",
    "    \n",
    "    # Count frequency of each word\n",
    "    word_counts = Counter(words)\n",
    "    \n",
    "    # Print words and their frequencies\n",
    "    for word, count in word_counts.items():\n",
    "        print(f\"{word}: {count}\")\n",
    "\n",
    "def extract_emails(text):\n",
    "    # Regular expression pattern for email addresses\n",
    "    email_pattern = r'\\b[A-Za-z0-9._%+-]+@[A-Za-z0-9.-]+\\.[A-Z|a-z]{2,}\\b'\n",
    "    return re.findall(email_pattern, text)\n",
    "\n",
    "def tokenize_text(text):\n",
    "    words = word_tokenize(text)\n",
    "    sentences = sent_tokenize(text)\n",
    "    return words, sentences\n",
    "\n",
    "def fetch_webpage_title(url):\n",
    "    response = requests.get(url)\n",
    "    soup = BeautifulSoup(response.text, 'html.parser')\n",
    "    return soup.title.string if soup.title else \"No title found\"\n",
    "\n",
    "# Example usage\n",
    "if __name__ == \"__main__\":\n",
    "    text = input(\"Enter a text: \")\n",
    "    word_frequency(text)\n",
    "    emails = extract_emails(text)\n",
    "    print(\"Extracted emails:\", emails)\n",
    "    words, sentences = tokenize_text(text)\n",
    "    print(\"Tokenized words:\", words)\n",
    "    print(\"Tokenized sentences:\", sentences)\n",
    "    \n",
    "    url = \"https://example.com\"\n",
    "    print(\"Webpage title:\", fetch_webpage_title(url))"
   ]
  },
  {
   "cell_type": "code",
   "execution_count": null,
   "id": "deeba168",
   "metadata": {},
   "outputs": [],
   "source": []
  },
  {
   "cell_type": "code",
   "execution_count": null,
   "id": "b9897190",
   "metadata": {},
   "outputs": [],
   "source": []
  }
 ],
 "metadata": {
  "kernelspec": {
   "display_name": "Python 3 (ipykernel)",
   "language": "python",
   "name": "python3"
  },
  "language_info": {
   "codemirror_mode": {
    "name": "ipython",
    "version": 3
   },
   "file_extension": ".py",
   "mimetype": "text/x-python",
   "name": "python",
   "nbconvert_exporter": "python",
   "pygments_lexer": "ipython3",
   "version": "3.10.9"
  }
 },
 "nbformat": 4,
 "nbformat_minor": 5
}
