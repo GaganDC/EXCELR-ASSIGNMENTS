{
 "cells": [
  {
   "cell_type": "code",
   "execution_count": 2,
   "id": "a023e4d7",
   "metadata": {},
   "outputs": [
    {
     "name": "stdout",
     "output_type": "stream",
     "text": [
      "Token          POS Tag        Description\n",
      "----------------------------------------\n",
      "NLP            PROPN          proper noun\n",
      "is             AUX            auxiliary\n",
      "amazing        ADJ            adjective\n",
      "and            CCONJ          coordinating conjunction\n",
      "fun            ADJ            adjective\n",
      "to             PART           particle\n",
      "learn          VERB           verb\n",
      ".              PUNCT          punctuation\n"
     ]
    }
   ],
   "source": [
    "import spacy\n",
    "\n",
    "def pos_tagging(sentence):\n",
    "    \"\"\"\n",
    "    Performs part-of-speech tagging on a given sentence using SpaCy.\n",
    "\n",
    "    Parameters:\n",
    "    sentence (str): The input sentence to tag.\n",
    "\n",
    "    Returns:\n",
    "    None\n",
    "    \"\"\"\n",
    "\n",
    "    nlp = spacy.load('en_core_web_sm')\n",
    "\n",
    "    doc = nlp(sentence)\n",
    "\n",
    "\n",
    "    print(f\"{'Token':<15}{'POS Tag':<15}{'Description'}\")\n",
    "    print(\"-\" * 40)\n",
    "    for token in doc:\n",
    "        print(f\"{token.text:<15}{token.pos_:<15}{spacy.explain(token.pos_)}\")\n",
    "\n",
    "sentence = 'NLP is amazing and fun to learn.'\n",
    "\n",
    "pos_tagging(sentence)"
   ]
  },
  {
   "cell_type": "code",
   "execution_count": null,
   "id": "adc085f3",
   "metadata": {},
   "outputs": [],
   "source": []
  }
 ],
 "metadata": {
  "kernelspec": {
   "display_name": "Python 3 (ipykernel)",
   "language": "python",
   "name": "python3"
  },
  "language_info": {
   "codemirror_mode": {
    "name": "ipython",
    "version": 3
   },
   "file_extension": ".py",
   "mimetype": "text/x-python",
   "name": "python",
   "nbconvert_exporter": "python",
   "pygments_lexer": "ipython3",
   "version": "3.10.9"
  }
 },
 "nbformat": 4,
 "nbformat_minor": 5
}
