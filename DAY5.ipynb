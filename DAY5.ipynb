{
 "cells": [
  {
   "cell_type": "code",
   "execution_count": 1,
   "id": "f9d7dbec",
   "metadata": {},
   "outputs": [
    {
     "name": "stdout",
     "output_type": "stream",
     "text": [
      "Word Frequencies:\n",
      "this: 2\n",
      "is: 2\n",
      "a: 1\n",
      "sample: 1\n",
      "text: 3\n",
      "used: 1\n",
      "to: 1\n",
      "calculate: 1\n",
      "the: 3\n",
      "frequency: 1\n",
      "of: 1\n",
      "each: 1\n",
      "word: 1\n",
      "in: 1\n",
      "some: 1\n",
      "words: 1\n",
      "may: 1\n",
      "repeat: 1\n",
      "and: 1\n",
      "program: 1\n",
      "will: 1\n",
      "count: 1\n",
      "them: 1\n"
     ]
    }
   ],
   "source": [
    "from collections import Counter\n",
    "import re\n",
    "\n",
    "def calculate_word_frequency(text):\n",
    "\n",
    "    cleaned_text = re.sub(r'[^\\w\\s]', '', text.lower())\n",
    "\n",
    "    words = cleaned_text.split()\n",
    "\n",
    "\n",
    "    word_count = Counter(words)\n",
    "\n",
    "\n",
    "    print(\"Word Frequencies:\")\n",
    "    for word, count in word_count.items():\n",
    "        print(f\"{word}: {count}\")\n",
    "\n",
    "\n",
    "if __name__ == \"__main__\":\n",
    "    sample_text = \"\"\"\n",
    "    This is a sample text. This text is used to calculate the frequency of each word in the text.\n",
    "    Some words may repeat, and the program will count them.\n",
    "    \"\"\"\n",
    "    calculate_word_frequency(sample_text)"
   ]
  },
  {
   "cell_type": "code",
   "execution_count": null,
   "id": "41799d40",
   "metadata": {},
   "outputs": [],
   "source": []
  }
 ],
 "metadata": {
  "kernelspec": {
   "display_name": "Python 3 (ipykernel)",
   "language": "python",
   "name": "python3"
  },
  "language_info": {
   "codemirror_mode": {
    "name": "ipython",
    "version": 3
   },
   "file_extension": ".py",
   "mimetype": "text/x-python",
   "name": "python",
   "nbconvert_exporter": "python",
   "pygments_lexer": "ipython3",
   "version": "3.10.9"
  }
 },
 "nbformat": 4,
 "nbformat_minor": 5
}
