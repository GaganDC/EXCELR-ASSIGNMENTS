{
 "cells": [
  {
   "cell_type": "code",
   "execution_count": 2,
   "id": "2227ec3e",
   "metadata": {},
   "outputs": [
    {
     "name": "stdout",
     "output_type": "stream",
     "text": [
      "Enter marks for subject 1: 85\n",
      "Enter marks for subject 2: 90\n",
      "Enter marks for subject 3: 88\n",
      "Average: 87.67\n",
      "Grade: B\n"
     ]
    }
   ],
   "source": [
    "mark1 = int(input(\"Enter marks for subject 1: \"))\n",
    "mark2 = int(input(\"Enter marks for subject 2: \"))\n",
    "mark3 = int(input(\"Enter marks for subject 3: \"))\n",
    "average = (mark1 + mark2 + mark3) / 3\n",
    "if average >= 90:\n",
    "    grade = \"Grade: A\"\n",
    "elif 80 <= average < 90:\n",
    "    grade = \"Grade: B\"\n",
    "elif 70 <= average < 80:\n",
    "    grade = \"Grade: C\"\n",
    "else:\n",
    "    grade = \"Grade: Fail\"\n",
    "print(f\"Average: {average:.2f}\")\n",
    "print(grade)\n"
   ]
  },
  {
   "cell_type": "code",
   "execution_count": null,
   "id": "05d66f80",
   "metadata": {},
   "outputs": [],
   "source": []
  }
 ],
 "metadata": {
  "kernelspec": {
   "display_name": "Python 3 (ipykernel)",
   "language": "python",
   "name": "python3"
  },
  "language_info": {
   "codemirror_mode": {
    "name": "ipython",
    "version": 3
   },
   "file_extension": ".py",
   "mimetype": "text/x-python",
   "name": "python",
   "nbconvert_exporter": "python",
   "pygments_lexer": "ipython3",
   "version": "3.10.9"
  }
 },
 "nbformat": 4,
 "nbformat_minor": 5
}
